{
 "cells": [
  {
   "cell_type": "code",
   "execution_count": 29,
   "metadata": {},
   "outputs": [],
   "source": [
    "#import spacy\n",
    "#from spacy import displacy\n",
    "\n",
    "import tensorflow as tf\n",
    "import keras\n",
    "\n",
    "import pandas as pd\n",
    "import numpy as np\n",
    "import itertools\n",
    "\n",
    "import matplotlib.pyplot as plt\n",
    "import matplotlib\n",
    "import matplotlib.patches as mpatches\n",
    "\n",
    "import sklearn\n",
    "#from sklearn.preprocessing import CategoricalEncoder\n",
    "from sklearn.decomposition import PCA, TruncatedSVD\n",
    "from sklearn.metrics import confusion_matrix\n",
    "from sklearn.model_selection import train_test_split\n",
    "from sklearn.linear_model import LogisticRegression\n",
    "from sklearn.feature_extraction import DictVectorizer\n",
    "from sklearn.feature_extraction.text import CountVectorizer, TfidfTransformer\n",
    "from keras.preprocessing.text import text_to_word_sequence\n",
    "\n",
    "from keras.models import Sequential\n",
    "from keras.layers import Dense, LSTM, SimpleRNN, GRU, Activation, Dropout\n",
    "from keras import layers\n",
    "from keras.layers import Input, Concatenate\n",
    "from keras.models import Model, load_model\n",
    "from keras.optimizers import SGD, Adam\n",
    "from keras.models import load_model\n",
    "from keras import regularizers\n",
    "from keras.utils import plot_model\n",
    "import keras.backend as K\n",
    "K.set_image_data_format('channels_last')\n",
    "from hyperopt import fmin, hp, Trials, tpe, STATUS_OK\n",
    "from sklearn.metrics import confusion_matrix\n"
   ]
  },
  {
   "cell_type": "code",
   "execution_count": 30,
   "metadata": {
    "collapsed": true
   },
   "outputs": [],
   "source": [
    "# Here are the functions to pre-process the data before feeding it\n",
    "\n",
    "def split_data(data, training_size=0.8):\n",
    "  \"\"\"\n",
    "  data: Pandas Dataframe\n",
    "  training_size: proportion of the data to be used for training\n",
    "  This function splits the data into training_set and test_set based on the given training_size\n",
    "  Return: train_set and test_set as pandas DataFrame\n",
    "  \"\"\"\n",
    "  return data[:int(training_size*len(data))], data[int(training_size*len(data)):]\n"
   ]
  },
  {
   "cell_type": "code",
   "execution_count": 31,
   "metadata": {},
   "outputs": [
    {
     "name": "stderr",
     "output_type": "stream",
     "text": [
      "/anaconda3/lib/python3.6/site-packages/pandas/core/generic.py:3660: SettingWithCopyWarning: \n",
      "A value is trying to be set on a copy of a slice from a DataFrame\n",
      "\n",
      "See the caveats in the documentation: http://pandas.pydata.org/pandas-docs/stable/indexing.html#indexing-view-versus-copy\n",
      "  self._update_inplace(new_data)\n"
     ]
    },
    {
     "data": {
      "text/plain": [
       "TfidfTransformer(norm='l2', smooth_idf=True, sublinear_tf=False, use_idf=True)"
      ]
     },
     "execution_count": 31,
     "metadata": {},
     "output_type": "execute_result"
    }
   ],
   "source": [
    "# importer le csv, quelques erreurs pouvaient exister \n",
    "\n",
    "dataset_path = r'hack_train.csv'\n",
    "dataset_raw = pd.read_csv(dataset_path, header = 0,sep = ';', error_bad_lines = False,encoding = \"ISO-8859-1\")\n",
    "\n",
    "# shuffles the dataset\n",
    "dataset_raw = dataset_raw.sample(frac=1).reset_index(drop=True)\n",
    "training_set, test_set = split_data(dataset_raw)\n",
    "\n",
    "# fits the count vectorizer on training data\n",
    "count_vec = CountVectorizer()\n",
    "transformer = TfidfTransformer()\n",
    "\n",
    "descriptions_training = training_set['description']\n",
    "descriptions_training.fillna(value='', inplace=True)\n",
    "\n",
    "count_vec.fit(descriptions_training)\n",
    "\n",
    "transformer.fit(count_vec.transform(descriptions_training))\n",
    "\n"
   ]
  },
  {
   "cell_type": "code",
   "execution_count": 32,
   "metadata": {
    "collapsed": true
   },
   "outputs": [],
   "source": [
    "# Using bag of words technique\n",
    "\n",
    "def process_bag(descriptions):\n",
    "\n",
    "    x = count_vec.transform(descriptions)\n",
    "    x = transformer.transform(x)\n",
    "    \n",
    "    return x"
   ]
  },
  {
   "cell_type": "code",
   "execution_count": 33,
   "metadata": {
    "collapsed": true
   },
   "outputs": [],
   "source": [
    "\n",
    "def create_inputs_outputs(data):\n",
    "    \"\"\"\n",
    "    data: pandas DataFrame, this could be either training_set or test_set\n",
    "    This function will create input array X from the given dataset and will normalize 'Close' and 'Volume' between 0 and 1\n",
    "    Return: \n",
    "    data.values -> the input except description\n",
    "    description -> the preprocessed description\n",
    "    and output  -> the 'sold' booleans\n",
    "    \"\"\"\n",
    "\n",
    "    output = data['sold']\n",
    "\n",
    "    descriptions = data['description']\n",
    "    descriptions.fillna(value='', inplace=True)\n",
    "    descriptions = process_bag(descriptions)\n",
    "    \n",
    "    # we have to drop not relevant input and put the description apart\n",
    "    data = data.drop(['description','UniqueID','sold'],1)\n",
    "\n",
    "    # here we transform the categorical inputs in one-hot vectors\n",
    "    for name in (data.columns):\n",
    "      if name not in ['startprice', 'description']:\n",
    "        one_hot = pd.get_dummies(data[name], prefix = name)\n",
    "        data = pd.concat([data, one_hot], axis=1)\n",
    "        data = data.drop(name,1)\n",
    "\n",
    "    return data.values, descriptions, output\n"
   ]
  },
  {
   "cell_type": "code",
   "execution_count": 16,
   "metadata": {},
   "outputs": [
    {
     "name": "stdout",
     "output_type": "stream",
     "text": [
      "29\n",
      "881\n"
     ]
    },
    {
     "name": "stderr",
     "output_type": "stream",
     "text": [
      "/anaconda3/lib/python3.6/site-packages/pandas/core/generic.py:3660: SettingWithCopyWarning: \n",
      "A value is trying to be set on a copy of a slice from a DataFrame\n",
      "\n",
      "See the caveats in the documentation: http://pandas.pydata.org/pandas-docs/stable/indexing.html#indexing-view-versus-copy\n",
      "  self._update_inplace(new_data)\n"
     ]
    }
   ],
   "source": [
    "# divides the dataset into training and test\n",
    "training_set, test_set = split_data(dataset_raw)\n",
    "\n",
    "#descriptions = training_set['description']\n",
    "#descriptions.fillna(value='', inplace=True)\n",
    "#descriptions = process_bag(descriptions)\n",
    "\n",
    "#print(descriptions[2])\n",
    "\n",
    "X_train, D_train, Y_train =  create_inputs_outputs(training_set)\n",
    "X_test,D_test, Y_test = create_inputs_outputs(test_set)\n",
    "\n",
    "features_shape = X_train.shape[1]\n",
    "descriptions_shape = D_train.shape[1]\n",
    "\n",
    "print(features_shape)\n",
    "print(descriptions_shape)\n"
   ]
  },
  {
   "cell_type": "code",
   "execution_count": 19,
   "metadata": {
    "collapsed": true
   },
   "outputs": [],
   "source": [
    "def modele(l=100, m=50, n=30, o=20, dropout_rate = 0.2):\n",
    "        input_features = Input((features_shape,), name = 'features')\n",
    "        input_descriptions = Input((descriptions_shape,), name = 'description')\n",
    "    \n",
    "        desc = input_descriptions\n",
    "        feat = input_features\n",
    "        \n",
    "        desc = Dense(int(l), activation='relu')(desc)\n",
    "        desc = Dropout(dropout_rate)(desc)\n",
    "        desc = Dense(int(m), activation='relu')(desc)\n",
    "        \n",
    "        x = Concatenate(axis = -1)([feat, desc])\n",
    "        \n",
    "        x = Dense(int(n), activation='relu')(x)\n",
    "        x = Dropout(dropout_rate)(x)\n",
    "        x = Dense(int(o), activation='relu')(x)\n",
    "        x = Dense(1, activation='sigmoid')(x)\n",
    "\n",
    "        # Create model. This creates your Keras model instance, you'll use this instance to train/test the model.\n",
    "        model = Model(inputs = [input_features, input_descriptions], outputs = x, name='model')\n",
    "        return model"
   ]
  },
  {
   "cell_type": "code",
   "execution_count": 41,
   "metadata": {},
   "outputs": [
    {
     "name": "stdout",
     "output_type": "stream",
     "text": [
      "Train on 1595 samples, validate on 399 samples\n",
      "Epoch 1/100\n",
      "1595/1595 [==============================] - 0s 189us/step - loss: 1.9346 - acc: 0.5699 - val_loss: 1.9567 - val_acc: 0.6115\n",
      "Epoch 2/100\n",
      "1595/1595 [==============================] - 0s 35us/step - loss: 2.0577 - acc: 0.5624 - val_loss: 1.9543 - val_acc: 0.6115\n",
      "Epoch 3/100\n",
      "1595/1595 [==============================] - 0s 35us/step - loss: 1.9669 - acc: 0.5724 - val_loss: 1.9520 - val_acc: 0.6115\n",
      "Epoch 4/100\n",
      "1595/1595 [==============================] - 0s 45us/step - loss: 1.9612 - acc: 0.5592 - val_loss: 1.9493 - val_acc: 0.6115\n",
      "Epoch 5/100\n",
      "1595/1595 [==============================] - 0s 52us/step - loss: 2.0155 - acc: 0.5611 - val_loss: 1.9480 - val_acc: 0.6115\n",
      "Epoch 6/100\n",
      "1595/1595 [==============================] - 0s 30us/step - loss: 2.1282 - acc: 0.5592 - val_loss: 1.9461 - val_acc: 0.6115\n",
      "Epoch 7/100\n",
      "1595/1595 [==============================] - 0s 34us/step - loss: 1.9610 - acc: 0.5561 - val_loss: 1.9439 - val_acc: 0.6115\n",
      "Epoch 8/100\n",
      "1595/1595 [==============================] - 0s 36us/step - loss: 1.9658 - acc: 0.5655 - val_loss: 1.9428 - val_acc: 0.6115\n",
      "Epoch 9/100\n",
      "1595/1595 [==============================] - 0s 35us/step - loss: 2.0434 - acc: 0.5687 - val_loss: 1.9400 - val_acc: 0.6115\n",
      "Epoch 10/100\n",
      "1595/1595 [==============================] - 0s 36us/step - loss: 2.0714 - acc: 0.5542 - val_loss: 1.9385 - val_acc: 0.6115\n",
      "Epoch 11/100\n",
      "1595/1595 [==============================] - 0s 33us/step - loss: 1.9086 - acc: 0.5693 - val_loss: 1.9370 - val_acc: 0.6115\n",
      "Epoch 12/100\n",
      "1595/1595 [==============================] - 0s 35us/step - loss: 2.0362 - acc: 0.5680 - val_loss: 1.9362 - val_acc: 0.6115\n",
      "Epoch 13/100\n",
      "1595/1595 [==============================] - 0s 35us/step - loss: 2.0929 - acc: 0.5592 - val_loss: 1.9335 - val_acc: 0.6115\n",
      "Epoch 14/100\n",
      "1595/1595 [==============================] - 0s 35us/step - loss: 2.0472 - acc: 0.5586 - val_loss: 1.9321 - val_acc: 0.6115\n",
      "Epoch 15/100\n",
      "1595/1595 [==============================] - 0s 36us/step - loss: 2.0075 - acc: 0.5668 - val_loss: 1.9301 - val_acc: 0.6115\n",
      "Epoch 16/100\n",
      "1595/1595 [==============================] - 0s 42us/step - loss: 2.0708 - acc: 0.5687 - val_loss: 1.9279 - val_acc: 0.6115\n",
      "Epoch 17/100\n",
      "1595/1595 [==============================] - 0s 48us/step - loss: 1.9635 - acc: 0.5793 - val_loss: 1.9245 - val_acc: 0.6115\n",
      "Epoch 18/100\n",
      "1595/1595 [==============================] - 0s 46us/step - loss: 2.0636 - acc: 0.5404 - val_loss: 1.9228 - val_acc: 0.6115\n",
      "Epoch 19/100\n",
      "1595/1595 [==============================] - 0s 41us/step - loss: 1.9211 - acc: 0.5837 - val_loss: 1.9204 - val_acc: 0.6115\n",
      "Epoch 20/100\n",
      "1595/1595 [==============================] - ETA: 0s - loss: 2.1189 - acc: 0.575 - 0s 56us/step - loss: 2.0961 - acc: 0.5749 - val_loss: 1.9189 - val_acc: 0.6115\n",
      "Epoch 21/100\n",
      "1595/1595 [==============================] - 0s 36us/step - loss: 1.8854 - acc: 0.5699 - val_loss: 1.9171 - val_acc: 0.6115\n",
      "Epoch 22/100\n",
      "1595/1595 [==============================] - 0s 33us/step - loss: 1.9467 - acc: 0.5687 - val_loss: 1.9151 - val_acc: 0.6115\n",
      "Epoch 23/100\n",
      "1595/1595 [==============================] - 0s 33us/step - loss: 1.9470 - acc: 0.5655 - val_loss: 1.9122 - val_acc: 0.6115\n",
      "Epoch 24/100\n",
      "1595/1595 [==============================] - 0s 43us/step - loss: 1.9411 - acc: 0.5737 - val_loss: 1.9108 - val_acc: 0.6115\n",
      "Epoch 25/100\n",
      "1595/1595 [==============================] - 0s 36us/step - loss: 1.9635 - acc: 0.5699 - val_loss: 1.9075 - val_acc: 0.6115\n",
      "Epoch 26/100\n",
      "1595/1595 [==============================] - 0s 52us/step - loss: 1.9857 - acc: 0.5649 - val_loss: 1.9053 - val_acc: 0.6115\n",
      "Epoch 27/100\n",
      "1595/1595 [==============================] - 0s 41us/step - loss: 1.9104 - acc: 0.5730 - val_loss: 1.9027 - val_acc: 0.6115\n",
      "Epoch 28/100\n",
      "1595/1595 [==============================] - 0s 34us/step - loss: 2.0670 - acc: 0.5567 - val_loss: 1.9015 - val_acc: 0.6115\n",
      "Epoch 29/100\n",
      "1595/1595 [==============================] - 0s 33us/step - loss: 1.9612 - acc: 0.5592 - val_loss: 1.9004 - val_acc: 0.6115\n",
      "Epoch 30/100\n",
      "1595/1595 [==============================] - 0s 31us/step - loss: 1.9362 - acc: 0.5586 - val_loss: 1.8987 - val_acc: 0.6115\n",
      "Epoch 31/100\n",
      "1595/1595 [==============================] - 0s 34us/step - loss: 1.9420 - acc: 0.5674 - val_loss: 1.8966 - val_acc: 0.6115\n",
      "Epoch 32/100\n",
      "1595/1595 [==============================] - 0s 34us/step - loss: 1.9253 - acc: 0.5624 - val_loss: 1.8940 - val_acc: 0.6115\n",
      "Epoch 33/100\n",
      "1595/1595 [==============================] - 0s 33us/step - loss: 2.1520 - acc: 0.5473 - val_loss: 1.8918 - val_acc: 0.6115\n",
      "Epoch 34/100\n",
      "1595/1595 [==============================] - 0s 36us/step - loss: 1.9144 - acc: 0.5687 - val_loss: 1.8898 - val_acc: 0.6115\n",
      "Epoch 35/100\n",
      "1595/1595 [==============================] - 0s 40us/step - loss: 2.0308 - acc: 0.5643 - val_loss: 1.8871 - val_acc: 0.6115\n",
      "Epoch 36/100\n",
      "1595/1595 [==============================] - 0s 32us/step - loss: 1.9690 - acc: 0.5599 - val_loss: 1.8848 - val_acc: 0.6115\n",
      "Epoch 37/100\n",
      "1595/1595 [==============================] - 0s 38us/step - loss: 1.9855 - acc: 0.5561 - val_loss: 1.8835 - val_acc: 0.6115\n",
      "Epoch 38/100\n",
      "1595/1595 [==============================] - 0s 37us/step - loss: 1.9071 - acc: 0.5755 - val_loss: 1.8819 - val_acc: 0.6115\n",
      "Epoch 39/100\n",
      "1595/1595 [==============================] - 0s 35us/step - loss: 1.9680 - acc: 0.5705 - val_loss: 1.8806 - val_acc: 0.6115\n",
      "Epoch 40/100\n",
      "1595/1595 [==============================] - 0s 36us/step - loss: 2.0760 - acc: 0.5611 - val_loss: 1.8805 - val_acc: 0.6115\n",
      "Epoch 41/100\n",
      "1595/1595 [==============================] - 0s 35us/step - loss: 1.9905 - acc: 0.5768 - val_loss: 1.8788 - val_acc: 0.6115\n",
      "Epoch 42/100\n",
      "1595/1595 [==============================] - 0s 38us/step - loss: 1.8095 - acc: 0.5624 - val_loss: 1.8763 - val_acc: 0.6115\n",
      "Epoch 43/100\n",
      "1595/1595 [==============================] - 0s 38us/step - loss: 2.1419 - acc: 0.5423 - val_loss: 1.8766 - val_acc: 0.6115\n",
      "Epoch 44/100\n",
      "1595/1595 [==============================] - 0s 35us/step - loss: 1.9280 - acc: 0.5511 - val_loss: 1.8761 - val_acc: 0.6115\n",
      "Epoch 45/100\n",
      "1595/1595 [==============================] - 0s 31us/step - loss: 1.9354 - acc: 0.5774 - val_loss: 1.8747 - val_acc: 0.6115\n",
      "Epoch 46/100\n",
      "1595/1595 [==============================] - 0s 32us/step - loss: 1.8142 - acc: 0.5799 - val_loss: 1.8721 - val_acc: 0.6115\n",
      "Epoch 47/100\n",
      "1595/1595 [==============================] - 0s 36us/step - loss: 1.9662 - acc: 0.5636 - val_loss: 1.8714 - val_acc: 0.6115\n",
      "Epoch 48/100\n",
      "1595/1595 [==============================] - 0s 43us/step - loss: 1.9845 - acc: 0.5831 - val_loss: 1.8694 - val_acc: 0.6115\n",
      "Epoch 49/100\n",
      "1595/1595 [==============================] - 0s 37us/step - loss: 1.9180 - acc: 0.5730 - val_loss: 1.8674 - val_acc: 0.6115\n",
      "Epoch 50/100\n",
      "1595/1595 [==============================] - 0s 30us/step - loss: 2.0762 - acc: 0.5517 - val_loss: 1.8655 - val_acc: 0.6115\n",
      "Epoch 51/100\n",
      "1595/1595 [==============================] - 0s 34us/step - loss: 2.0083 - acc: 0.5561 - val_loss: 1.8650 - val_acc: 0.6115\n",
      "Epoch 52/100\n",
      "1595/1595 [==============================] - 0s 34us/step - loss: 1.8181 - acc: 0.5806 - val_loss: 1.8622 - val_acc: 0.6115\n",
      "Epoch 53/100\n",
      "1595/1595 [==============================] - 0s 25us/step - loss: 1.9724 - acc: 0.5611 - val_loss: 1.8610 - val_acc: 0.6115\n",
      "Epoch 54/100\n",
      "1595/1595 [==============================] - 0s 36us/step - loss: 1.8524 - acc: 0.5812 - val_loss: 1.8586 - val_acc: 0.6115\n",
      "Epoch 55/100\n",
      "1595/1595 [==============================] - 0s 39us/step - loss: 1.8741 - acc: 0.5768 - val_loss: 1.8569 - val_acc: 0.6115\n",
      "Epoch 56/100\n",
      "1595/1595 [==============================] - 0s 32us/step - loss: 1.7993 - acc: 0.5850 - val_loss: 1.8545 - val_acc: 0.6115\n",
      "Epoch 57/100\n",
      "1595/1595 [==============================] - 0s 32us/step - loss: 1.9711 - acc: 0.5542 - val_loss: 1.8531 - val_acc: 0.6115\n",
      "Epoch 58/100\n",
      "1595/1595 [==============================] - 0s 33us/step - loss: 1.9659 - acc: 0.5749 - val_loss: 1.8514 - val_acc: 0.6115\n",
      "Epoch 59/100\n",
      "1595/1595 [==============================] - 0s 35us/step - loss: 2.0344 - acc: 0.5517 - val_loss: 1.8511 - val_acc: 0.6115\n",
      "Epoch 60/100\n"
     ]
    },
    {
     "name": "stdout",
     "output_type": "stream",
     "text": [
      "1595/1595 [==============================] - 0s 28us/step - loss: 1.9458 - acc: 0.5661 - val_loss: 1.8496 - val_acc: 0.6115\n",
      "Epoch 61/100\n",
      "1595/1595 [==============================] - 0s 40us/step - loss: 1.9251 - acc: 0.5624 - val_loss: 1.8491 - val_acc: 0.6115\n",
      "Epoch 62/100\n",
      "1595/1595 [==============================] - 0s 33us/step - loss: 1.9784 - acc: 0.5630 - val_loss: 1.8467 - val_acc: 0.6115\n",
      "Epoch 63/100\n",
      "1595/1595 [==============================] - 0s 36us/step - loss: 1.9006 - acc: 0.5680 - val_loss: 1.8436 - val_acc: 0.6115\n",
      "Epoch 64/100\n",
      "1595/1595 [==============================] - 0s 35us/step - loss: 1.9117 - acc: 0.5567 - val_loss: 1.8422 - val_acc: 0.6115\n",
      "Epoch 65/100\n",
      "1595/1595 [==============================] - 0s 33us/step - loss: 1.9770 - acc: 0.5743 - val_loss: 1.8390 - val_acc: 0.6115\n",
      "Epoch 66/100\n",
      "1595/1595 [==============================] - 0s 32us/step - loss: 1.8865 - acc: 0.5693 - val_loss: 1.8377 - val_acc: 0.6115\n",
      "Epoch 67/100\n",
      "1595/1595 [==============================] - 0s 31us/step - loss: 1.8880 - acc: 0.5693 - val_loss: 1.8371 - val_acc: 0.6115\n",
      "Epoch 68/100\n",
      "1595/1595 [==============================] - 0s 31us/step - loss: 1.9102 - acc: 0.5605 - val_loss: 1.8350 - val_acc: 0.6115\n",
      "Epoch 69/100\n",
      "1595/1595 [==============================] - 0s 30us/step - loss: 1.9430 - acc: 0.5555 - val_loss: 1.8338 - val_acc: 0.6115\n",
      "Epoch 70/100\n",
      "1595/1595 [==============================] - 0s 35us/step - loss: 1.9228 - acc: 0.5668 - val_loss: 1.8333 - val_acc: 0.6115\n",
      "Epoch 71/100\n",
      "1595/1595 [==============================] - 0s 32us/step - loss: 2.0267 - acc: 0.5455 - val_loss: 1.8306 - val_acc: 0.6115\n",
      "Epoch 72/100\n",
      "1595/1595 [==============================] - 0s 30us/step - loss: 2.0718 - acc: 0.5486 - val_loss: 1.8282 - val_acc: 0.6115\n",
      "Epoch 73/100\n",
      "1595/1595 [==============================] - 0s 31us/step - loss: 2.0174 - acc: 0.5555 - val_loss: 1.8259 - val_acc: 0.6115\n",
      "Epoch 74/100\n",
      "1595/1595 [==============================] - 0s 33us/step - loss: 1.9102 - acc: 0.5599 - val_loss: 1.8254 - val_acc: 0.6115\n",
      "Epoch 75/100\n",
      "1595/1595 [==============================] - 0s 28us/step - loss: 1.8284 - acc: 0.5705 - val_loss: 1.8239 - val_acc: 0.6115\n",
      "Epoch 76/100\n",
      "1595/1595 [==============================] - 0s 35us/step - loss: 1.9296 - acc: 0.5743 - val_loss: 1.8234 - val_acc: 0.6115\n",
      "Epoch 77/100\n",
      "1595/1595 [==============================] - 0s 27us/step - loss: 1.8711 - acc: 0.5712 - val_loss: 1.8213 - val_acc: 0.6115\n",
      "Epoch 78/100\n",
      "1595/1595 [==============================] - 0s 26us/step - loss: 1.9670 - acc: 0.5643 - val_loss: 1.8204 - val_acc: 0.6115\n",
      "Epoch 79/100\n",
      "1595/1595 [==============================] - 0s 28us/step - loss: 1.8341 - acc: 0.5730 - val_loss: 1.8179 - val_acc: 0.6115\n",
      "Epoch 80/100\n",
      "1595/1595 [==============================] - 0s 35us/step - loss: 1.8992 - acc: 0.5492 - val_loss: 1.8163 - val_acc: 0.6115\n",
      "Epoch 81/100\n",
      "1595/1595 [==============================] - 0s 30us/step - loss: 1.8989 - acc: 0.5893 - val_loss: 1.8142 - val_acc: 0.6115\n",
      "Epoch 82/100\n",
      "1595/1595 [==============================] - 0s 27us/step - loss: 1.9580 - acc: 0.5618 - val_loss: 1.8115 - val_acc: 0.6115\n",
      "Epoch 83/100\n",
      "1595/1595 [==============================] - 0s 26us/step - loss: 2.0163 - acc: 0.5661 - val_loss: 1.8092 - val_acc: 0.6115\n",
      "Epoch 84/100\n",
      "1595/1595 [==============================] - 0s 31us/step - loss: 1.9280 - acc: 0.5724 - val_loss: 1.8071 - val_acc: 0.6115\n",
      "Epoch 85/100\n",
      "1595/1595 [==============================] - 0s 27us/step - loss: 1.7855 - acc: 0.5818 - val_loss: 1.8055 - val_acc: 0.6115\n",
      "Epoch 86/100\n",
      "1595/1595 [==============================] - 0s 24us/step - loss: 2.0145 - acc: 0.5492 - val_loss: 1.8039 - val_acc: 0.6115\n",
      "Epoch 87/100\n",
      "1595/1595 [==============================] - 0s 24us/step - loss: 1.8692 - acc: 0.5586 - val_loss: 1.8023 - val_acc: 0.6115\n",
      "Epoch 88/100\n",
      "1595/1595 [==============================] - 0s 24us/step - loss: 1.8954 - acc: 0.5461 - val_loss: 1.8011 - val_acc: 0.6115\n",
      "Epoch 89/100\n",
      "1595/1595 [==============================] - 0s 27us/step - loss: 1.8024 - acc: 0.5611 - val_loss: 1.7994 - val_acc: 0.6115\n",
      "Epoch 90/100\n",
      "1595/1595 [==============================] - 0s 33us/step - loss: 1.9520 - acc: 0.5806 - val_loss: 1.7967 - val_acc: 0.6115\n",
      "Epoch 91/100\n",
      "1595/1595 [==============================] - 0s 35us/step - loss: 1.9526 - acc: 0.5624 - val_loss: 1.7949 - val_acc: 0.6115\n",
      "Epoch 92/100\n",
      "1595/1595 [==============================] - 0s 31us/step - loss: 1.8776 - acc: 0.5467 - val_loss: 1.7925 - val_acc: 0.6115\n",
      "Epoch 93/100\n",
      "1595/1595 [==============================] - 0s 27us/step - loss: 1.8183 - acc: 0.5843 - val_loss: 1.7898 - val_acc: 0.6115\n",
      "Epoch 94/100\n",
      "1595/1595 [==============================] - 0s 27us/step - loss: 1.9674 - acc: 0.5511 - val_loss: 1.7893 - val_acc: 0.6115\n",
      "Epoch 95/100\n",
      "1595/1595 [==============================] - 0s 31us/step - loss: 1.9204 - acc: 0.5618 - val_loss: 1.7875 - val_acc: 0.6115\n",
      "Epoch 96/100\n",
      "1595/1595 [==============================] - 0s 33us/step - loss: 1.8352 - acc: 0.5693 - val_loss: 1.7862 - val_acc: 0.6115\n",
      "Epoch 97/100\n",
      "1595/1595 [==============================] - 0s 38us/step - loss: 1.9737 - acc: 0.5561 - val_loss: 1.7851 - val_acc: 0.6115\n",
      "Epoch 98/100\n",
      "1595/1595 [==============================] - 0s 32us/step - loss: 1.8538 - acc: 0.5599 - val_loss: 1.7841 - val_acc: 0.6115\n",
      "Epoch 99/100\n",
      "1595/1595 [==============================] - 0s 32us/step - loss: 1.8608 - acc: 0.5630 - val_loss: 1.7818 - val_acc: 0.6115\n",
      "Epoch 100/100\n",
      "1595/1595 [==============================] - 0s 29us/step - loss: 1.9388 - acc: 0.5755 - val_loss: 1.7788 - val_acc: 0.6115\n",
      "399/399 [==============================] - 0s 47us/step\n"
     ]
    },
    {
     "data": {
      "image/png": "[encoded data removed]",
      "text/plain": [
       "<matplotlib.figure.Figure at 0x1a2029dac8>"
      ]
     },
     "metadata": {},
     "output_type": "display_data"
    }
   ],
   "source": [
    "#hyperparam_opt()\n",
    "\n",
    "modele1 = modele(l=100,m=50,n=30,o=20, dropout_rate=0.2)\n",
    "modele1.compile(optimizer = SGD(0.00001),loss = \"binary_crossentropy\", metrics = [\"accuracy\"])\n",
    "history = modele1.fit([X_train, D_train.toarray()], y = Y_train, epochs = 100, batch_size = 1000, validation_data = ([X_test,D_test.toarray()], Y_test))\n",
    "modele1.evaluate(x = [X_test, D_test.toarray()], y = Y_test)\n",
    "\n",
    "plt.plot(history.history['acc'])\n",
    "plt.plot(history.history['val_acc'])\n",
    "plt.show()"
   ]
  },
  {
   "cell_type": "code",
   "execution_count": 35,
   "metadata": {},
   "outputs": [
    {
     "data": {
      "text/plain": [
       "(881, 1595)"
      ]
     },
     "execution_count": 35,
     "metadata": {},
     "output_type": "execute_result"
    }
   ],
   "source": [
    "D_train.T.shape"
   ]
  },
  {
   "cell_type": "code",
   "execution_count": 28,
   "metadata": {},
   "outputs": [
    {
     "data": {
      "text/plain": [
       "(1595, 29)"
      ]
     },
     "execution_count": 28,
     "metadata": {},
     "output_type": "execute_result"
    }
   ],
   "source": [
    "X_train.shape"
   ]
  },
  {
   "cell_type": "code",
   "execution_count": null,
   "metadata": {
    "collapsed": true
   },
   "outputs": [],
   "source": []
  }
 ],
 "metadata": {
  "kernelspec": {
   "display_name": "Python 3",
   "language": "python",
   "name": "python3"
  }
 },
 "nbformat": 4,
 "nbformat_minor": 2
}
